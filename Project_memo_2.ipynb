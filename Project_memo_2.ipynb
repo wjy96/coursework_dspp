{
 "cells": [
  {
   "cell_type": "code",
   "execution_count": 22,
   "metadata": {},
   "outputs": [],
   "source": [
    "import pandas as pd\n",
    "import seaborn as sns\n",
    "import matplotlib.pyplot as plt\n"
   ]
  },
  {
   "cell_type": "code",
   "execution_count": 40,
   "metadata": {},
   "outputs": [],
   "source": [
    "#read dataset\n",
    "df = pd.read_csv('../Downloads/Book5.csv')\n",
    "SMALL_SIZE = 8\n",
    "MEDIUM_SIZE = 10\n",
    "BIGGER_SIZE = 12\n",
    "#set font size\n",
    "plt.rc('font', size=SMALL_SIZE)          # controls default text sizes\n",
    "plt.rc('axes', titlesize=BIGGER_SIZE)     # fontsize of the axes title\n",
    "plt.rc('axes', labelsize=MEDIUM_SIZE)    # fontsize of the x and y labels\n",
    "plt.rc('xtick', labelsize=MEDIUM_SIZE)    # fontsize of the tick labels\n",
    "plt.rc('ytick', labelsize=MEDIUM_SIZE)    # fontsize of the tick labels\n",
    "plt.rc('legend', fontsize=SMALL_SIZE)    # legend fontsize\n",
    "plt.rc('figure', titlesize=BIGGER_SIZE)  # fontsize of the figure title"
   ]
  },
  {
   "cell_type": "code",
   "execution_count": 42,
   "metadata": {},
   "outputs": [
    {
     "data": {
      "text/html": [
       "<div>\n",
       "<style scoped>\n",
       "    .dataframe tbody tr th:only-of-type {\n",
       "        vertical-align: middle;\n",
       "    }\n",
       "\n",
       "    .dataframe tbody tr th {\n",
       "        vertical-align: top;\n",
       "    }\n",
       "\n",
       "    .dataframe thead th {\n",
       "        text-align: right;\n",
       "    }\n",
       "</style>\n",
       "<table border=\"1\" class=\"dataframe\">\n",
       "  <thead>\n",
       "    <tr style=\"text-align: right;\">\n",
       "      <th></th>\n",
       "      <th>is_primary_school</th>\n",
       "      <th>is_middle_school</th>\n",
       "      <th>distance_to_subway_station</th>\n",
       "      <th>distance_to_bus_station</th>\n",
       "      <th>distance_to_parking_lot</th>\n",
       "      <th>distance_to_coach_station</th>\n",
       "    </tr>\n",
       "  </thead>\n",
       "  <tbody>\n",
       "    <tr>\n",
       "      <th>0</th>\n",
       "      <td>1</td>\n",
       "      <td>0</td>\n",
       "      <td>88.49</td>\n",
       "      <td>0.51</td>\n",
       "      <td>2.11</td>\n",
       "      <td>20.84</td>\n",
       "    </tr>\n",
       "    <tr>\n",
       "      <th>1</th>\n",
       "      <td>1</td>\n",
       "      <td>0</td>\n",
       "      <td>55.93</td>\n",
       "      <td>0.08</td>\n",
       "      <td>3.96</td>\n",
       "      <td>25.31</td>\n",
       "    </tr>\n",
       "    <tr>\n",
       "      <th>2</th>\n",
       "      <td>0</td>\n",
       "      <td>1</td>\n",
       "      <td>74.15</td>\n",
       "      <td>0.17</td>\n",
       "      <td>4.72</td>\n",
       "      <td>6.75</td>\n",
       "    </tr>\n",
       "    <tr>\n",
       "      <th>3</th>\n",
       "      <td>1</td>\n",
       "      <td>0</td>\n",
       "      <td>73.22</td>\n",
       "      <td>0.25</td>\n",
       "      <td>3.88</td>\n",
       "      <td>6.92</td>\n",
       "    </tr>\n",
       "    <tr>\n",
       "      <th>4</th>\n",
       "      <td>1</td>\n",
       "      <td>0</td>\n",
       "      <td>51.12</td>\n",
       "      <td>0.08</td>\n",
       "      <td>0.08</td>\n",
       "      <td>15.94</td>\n",
       "    </tr>\n",
       "  </tbody>\n",
       "</table>\n",
       "</div>"
      ],
      "text/plain": [
       "   is_primary_school  is_middle_school  distance_to_subway_station  \\\n",
       "0                  1                 0                       88.49   \n",
       "1                  1                 0                       55.93   \n",
       "2                  0                 1                       74.15   \n",
       "3                  1                 0                       73.22   \n",
       "4                  1                 0                       51.12   \n",
       "\n",
       "   distance_to_bus_station  distance_to_parking_lot  distance_to_coach_station  \n",
       "0                     0.51                     2.11                      20.84  \n",
       "1                     0.08                     3.96                      25.31  \n",
       "2                     0.17                     4.72                       6.75  \n",
       "3                     0.25                     3.88                       6.92  \n",
       "4                     0.08                     0.08                      15.94  "
      ]
     },
     "execution_count": 42,
     "metadata": {},
     "output_type": "execute_result"
    }
   ],
   "source": [
    "df.head()"
   ]
  },
  {
   "cell_type": "code",
   "execution_count": 43,
   "metadata": {},
   "outputs": [],
   "source": [
    "#summary statistics\n",
    "t4=df.describe()"
   ]
  },
  {
   "cell_type": "code",
   "execution_count": 50,
   "metadata": {},
   "outputs": [
    {
     "data": {
      "text/html": [
       "<div>\n",
       "<style scoped>\n",
       "    .dataframe tbody tr th:only-of-type {\n",
       "        vertical-align: middle;\n",
       "    }\n",
       "\n",
       "    .dataframe tbody tr th {\n",
       "        vertical-align: top;\n",
       "    }\n",
       "\n",
       "    .dataframe thead th {\n",
       "        text-align: right;\n",
       "    }\n",
       "</style>\n",
       "<table border=\"1\" class=\"dataframe\">\n",
       "  <thead>\n",
       "    <tr style=\"text-align: right;\">\n",
       "      <th></th>\n",
       "      <th>is_primary_school</th>\n",
       "      <th>is_middle_school</th>\n",
       "      <th>distance_to_subway_station</th>\n",
       "      <th>distance_to_bus_station</th>\n",
       "      <th>distance_to_parking_lot</th>\n",
       "      <th>distance_to_coach_station</th>\n",
       "    </tr>\n",
       "  </thead>\n",
       "  <tbody>\n",
       "    <tr>\n",
       "      <th>count</th>\n",
       "      <td>2173.000000</td>\n",
       "      <td>2173.000000</td>\n",
       "      <td>2173.000000</td>\n",
       "      <td>2173.000000</td>\n",
       "      <td>2173.000000</td>\n",
       "      <td>2173.000000</td>\n",
       "    </tr>\n",
       "    <tr>\n",
       "      <th>mean</th>\n",
       "      <td>0.629544</td>\n",
       "      <td>0.370456</td>\n",
       "      <td>8.260216</td>\n",
       "      <td>0.219572</td>\n",
       "      <td>0.465513</td>\n",
       "      <td>4.282094</td>\n",
       "    </tr>\n",
       "    <tr>\n",
       "      <th>std</th>\n",
       "      <td>0.483038</td>\n",
       "      <td>0.483038</td>\n",
       "      <td>16.322085</td>\n",
       "      <td>0.154501</td>\n",
       "      <td>0.891700</td>\n",
       "      <td>4.018865</td>\n",
       "    </tr>\n",
       "    <tr>\n",
       "      <th>min</th>\n",
       "      <td>0.000000</td>\n",
       "      <td>0.000000</td>\n",
       "      <td>0.000000</td>\n",
       "      <td>0.000000</td>\n",
       "      <td>0.000000</td>\n",
       "      <td>0.080000</td>\n",
       "    </tr>\n",
       "    <tr>\n",
       "      <th>25%</th>\n",
       "      <td>0.000000</td>\n",
       "      <td>0.000000</td>\n",
       "      <td>0.510000</td>\n",
       "      <td>0.080000</td>\n",
       "      <td>0.080000</td>\n",
       "      <td>1.520000</td>\n",
       "    </tr>\n",
       "    <tr>\n",
       "      <th>50%</th>\n",
       "      <td>1.000000</td>\n",
       "      <td>0.000000</td>\n",
       "      <td>1.010000</td>\n",
       "      <td>0.170000</td>\n",
       "      <td>0.080000</td>\n",
       "      <td>3.040000</td>\n",
       "    </tr>\n",
       "    <tr>\n",
       "      <th>75%</th>\n",
       "      <td>1.000000</td>\n",
       "      <td>1.000000</td>\n",
       "      <td>7.340000</td>\n",
       "      <td>0.250000</td>\n",
       "      <td>0.340000</td>\n",
       "      <td>5.650000</td>\n",
       "    </tr>\n",
       "    <tr>\n",
       "      <th>max</th>\n",
       "      <td>1.000000</td>\n",
       "      <td>1.000000</td>\n",
       "      <td>103.260000</td>\n",
       "      <td>1.520000</td>\n",
       "      <td>8.600000</td>\n",
       "      <td>27.330000</td>\n",
       "    </tr>\n",
       "  </tbody>\n",
       "</table>\n",
       "</div>"
      ],
      "text/plain": [
       "       is_primary_school  is_middle_school  distance_to_subway_station  \\\n",
       "count        2173.000000       2173.000000                 2173.000000   \n",
       "mean            0.629544          0.370456                    8.260216   \n",
       "std             0.483038          0.483038                   16.322085   \n",
       "min             0.000000          0.000000                    0.000000   \n",
       "25%             0.000000          0.000000                    0.510000   \n",
       "50%             1.000000          0.000000                    1.010000   \n",
       "75%             1.000000          1.000000                    7.340000   \n",
       "max             1.000000          1.000000                  103.260000   \n",
       "\n",
       "       distance_to_bus_station  distance_to_parking_lot  \\\n",
       "count              2173.000000              2173.000000   \n",
       "mean                  0.219572                 0.465513   \n",
       "std                   0.154501                 0.891700   \n",
       "min                   0.000000                 0.000000   \n",
       "25%                   0.080000                 0.080000   \n",
       "50%                   0.170000                 0.080000   \n",
       "75%                   0.250000                 0.340000   \n",
       "max                   1.520000                 8.600000   \n",
       "\n",
       "       distance_to_coach_station  \n",
       "count                2173.000000  \n",
       "mean                    4.282094  \n",
       "std                     4.018865  \n",
       "min                     0.080000  \n",
       "25%                     1.520000  \n",
       "50%                     3.040000  \n",
       "75%                     5.650000  \n",
       "max                    27.330000  "
      ]
     },
     "execution_count": 50,
     "metadata": {},
     "output_type": "execute_result"
    }
   ],
   "source": [
    "t4"
   ]
  },
  {
   "cell_type": "code",
   "execution_count": 48,
   "metadata": {},
   "outputs": [
    {
     "data": {
      "text/plain": [
       "Text(0, 0.5, 'Count')"
      ]
     },
     "execution_count": 48,
     "metadata": {},
     "output_type": "execute_result"
    },
    {
     "data": {
      "image/png": "[encoded data removed]",
      "text/plain": [
       "<Figure size 432x288 with 1 Axes>"
      ]
     },
     "metadata": {},
     "output_type": "display_data"
    }
   ],
   "source": [
    " #matplotlib histogram for subway\n",
    "plt.hist(df['distance_to_subway_station'], color = '#012169', edgecolor = '#041e42')\n",
    "\n",
    "\n",
    "# Add labels\n",
    "plt.title('Distance to Nearest Subway Station')\n",
    "plt.xlabel('Distance(km)')\n",
    "plt.ylabel('Count')"
   ]
  },
  {
   "cell_type": "code",
   "execution_count": 47,
   "metadata": {},
   "outputs": [
    {
     "data": {
      "text/plain": [
       "Text(0, 0.5, 'Count')"
      ]
     },
     "execution_count": 47,
     "metadata": {},
     "output_type": "execute_result"
    },
    {
     "data": {
      "image/png": "[encoded data removed]",
      "text/plain": [
       "<Figure size 432x288 with 1 Axes>"
      ]
     },
     "metadata": {},
     "output_type": "display_data"
    }
   ],
   "source": [
    "import matplotlib.pyplot as plt\n",
    "import seaborn as sns\n",
    "\n",
    "# matplotlib histogram for bus station\n",
    "plt.hist(df['distance_to_bus_station'], color = '#012169', edgecolor = 'black')\n",
    "         #bins = int(180/5))\n",
    "\n",
    "\n",
    "# Add labels\n",
    "plt.title('Distance to Nearest Bus Station')\n",
    "plt.xlabel('Distance(km)')\n",
    "plt.ylabel('Count')"
   ]
  },
  {
   "cell_type": "code",
   "execution_count": 49,
   "metadata": {},
   "outputs": [
    {
     "data": {
      "text/plain": [
       "Text(0, 0.5, 'Count')"
      ]
     },
     "execution_count": 49,
     "metadata": {},
     "output_type": "execute_result"
    },
    {
     "data": {
      "image/png": "[encoded data removed]",
      "text/plain": [
       "<Figure size 432x288 with 1 Axes>"
      ]
     },
     "metadata": {},
     "output_type": "display_data"
    }
   ],
   "source": [
    "import matplotlib.pyplot as plt\n",
    "import seaborn as sns\n",
    "\n",
    "# matplotlib histogram for parking lots\n",
    "plt.hist(df['distance_to_parking_lot'], color = '#012169', edgecolor = 'black')\n",
    "\n",
    "#\n",
    "# Add labels\n",
    "plt.title('Distance to Nearest Parking Lots')\n",
    "plt.xlabel('Distance(km)')\n",
    "plt.ylabel('Count')"
   ]
  },
  {
   "cell_type": "code",
   "execution_count": 51,
   "metadata": {},
   "outputs": [
    {
     "data": {
      "text/plain": [
       "Text(0, 0.5, 'Count')"
      ]
     },
     "execution_count": 51,
     "metadata": {},
     "output_type": "execute_result"
    },
    {
     "data": {
      "image/png": "[encoded data removed]",
      "text/plain": [
       "<Figure size 432x288 with 1 Axes>"
      ]
     },
     "metadata": {},
     "output_type": "display_data"
    }
   ],
   "source": [
    "\n",
    "# matplotlib histogram for coach station\n",
    "plt.hist(df['distance_to_coach_station'], color = '#012169', edgecolor = 'black')\n",
    "\n",
    "\n",
    "# Add labels\n",
    "plt.title('Distance to Nearest Coach Station')\n",
    "plt.xlabel('Distance(km)')\n",
    "plt.ylabel('Count')"
   ]
  },
  {
   "cell_type": "code",
   "execution_count": 5,
   "metadata": {},
   "outputs": [
    {
     "data": {
      "image/png": "[encoded data removed]",
      "text/plain": [
       "<Figure size 432x288 with 1 Axes>"
      ]
     },
     "metadata": {},
     "output_type": "display_data"
    }
   ],
   "source": [
    "#primary school\n",
    "ax = sns.countplot(x=\"is_primary_school\", data=df, color=\"#012169\")\n",
    "ax.set(xticklabels=[\"Elementry School\", \"Middle School\"])\n",
    "plt.title('Public Schools Distribution')\n",
    "plt.xlabel('Type of School')\n",
    "plt.ylabel('Count')\n",
    "def change_width(ax, new_value) :\n",
    "    for patch in ax.patches :\n",
    "        current_width = patch.get_width()\n",
    "        diff = current_width - new_value\n",
    "\n",
    "        #  change the bar width\n",
    "        patch.set_width(new_value)\n",
    "\n",
    "        # recenter the bar\n",
    "        patch.set_x(patch.get_x() + diff * .5)\n",
    "change_width(ax, .25)"
   ]
  },
  {
   "cell_type": "code",
   "execution_count": 12,
   "metadata": {},
   "outputs": [
    {
     "data": {
      "image/png": "[encoded data removed]",
      "text/plain": [
       "<Figure size 432x288 with 1 Axes>"
      ]
     },
     "metadata": {},
     "output_type": "display_data"
    }
   ],
   "source": [
    "#middle school\n",
    "ax = sns.countplot(x=\"is_middle_school\", data=df, color=\"#012169\")\n",
    "ax.set(xticklabels=[\"Middle School\", \"Others\"])\n",
    "plt.title('Public Middle Schools Distribution')\n",
    "plt.xlabel('Type of School')\n",
    "plt.ylabel('Count')\n",
    "def change_width(ax, new_value) :\n",
    "    for patch in ax.patches :\n",
    "        current_width = patch.get_width()\n",
    "        diff = current_width - new_value\n",
    "\n",
    "        # we change the bar width\n",
    "        patch.set_width(new_value)\n",
    "\n",
    "        # we recenter the bar\n",
    "        patch.set_x(patch.get_x() + diff * .5)\n",
    "change_width(ax, .25)"
   ]
  }
 ],
 "metadata": {
  "kernelspec": {
   "display_name": "Python 3",
   "language": "python",
   "name": "python3"
  },
  "language_info": {
   "codemirror_mode": {
    "name": "ipython",
    "version": 3
   },
   "file_extension": ".py",
   "mimetype": "text/x-python",
   "name": "python",
   "nbconvert_exporter": "python",
   "pygments_lexer": "ipython3",
   "version": "3.6.5"
  }
 },
 "nbformat": 4,
 "nbformat_minor": 2
}
